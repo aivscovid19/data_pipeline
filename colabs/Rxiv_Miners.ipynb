{
  "nbformat": 4,
  "nbformat_minor": 0,
  "metadata": {
    "colab": {
      "name": "Rxiv_Miners.ipynb",
      "provenance": [],
      "collapsed_sections": [],
      "authorship_tag": "ABX9TyM/OjIJ27qGlXLsF1tBLvII",
      "include_colab_link": true
    },
    "kernelspec": {
      "name": "python3",
      "display_name": "Python 3"
    }
  },
  "cells": [
    {
      "cell_type": "markdown",
      "metadata": {
        "id": "view-in-github",
        "colab_type": "text"
      },
      "source": [
        "<a href=\"https://colab.research.google.com/github/khodizoda/ai_vs_covid19/blob/master/Rxiv_Miners.ipynb\" target=\"_parent\"><img src=\"https://colab.research.google.com/assets/colab-badge.svg\" alt=\"Open In Colab\"/></a>"
      ]
    },
    {
      "cell_type": "markdown",
      "metadata": {
        "id": "nSXJwbJw-nbS"
      },
      "source": [
        "## Set up and update"
      ]
    },
    {
      "cell_type": "code",
      "metadata": {
        "id": "haYENNc3-hwj"
      },
      "source": [
        "!apt-get update && apt-get upgrade\n",
        "!apt install chromium-chromedriver\n",
        "!pip install centaurMiner==0.0.8\n",
        "\n",
        "!apt autoremove"
      ],
      "execution_count": null,
      "outputs": []
    },
    {
      "cell_type": "markdown",
      "metadata": {
        "id": "ODXfgXczQOnc"
      },
      "source": [
        "## Define Arxiv miner"
      ]
    },
    {
      "cell_type": "code",
      "metadata": {
        "id": "-Fuku4z5Rsga"
      },
      "source": [
        "import centaurminer as mining"
      ],
      "execution_count": 23,
      "outputs": []
    },
    {
      "cell_type": "code",
      "metadata": {
        "id": "niyPg4ABQO9j"
      },
      "source": [
        "class ArxivMiner():\n",
        "  '''\n",
        "  Miner for https://arxiv.org/\n",
        "  '''\n",
        "  def __init__():\n",
        "    pass\n",
        "\n",
        "  class ArxivLocations(mining.PageLocations):\n",
        "    \"\"\" \n",
        "      This is a class used to find the schema in the journal\n",
        "    \"\"\"\n",
        "    references = mining.MetaData(\"\")\n",
        "    title = mining.MetaData(\"citation_title\")\n",
        "    doi = mining.MetaData(\"citation_doi\")\n",
        "    authors = mining.MetaData(\"citation_author\")\n",
        "    abstract = mining.Element(\"css_selector\", \"blockquote.abstract.mathjax\")\n",
        "    source = mining.MetaData('Arxiv')\n",
        "    body = mining.MetaData(\"\")\n",
        "    source_impact_factor = mining.MetaData(\"\")\n",
        "    category = mining.MetaData(\"\")\n",
        "    license = \"https://arxiv.org/licenses/nonexclusive-distrib/1.0/license.html\"\n",
        "    quantity_of_citations = mining.MetaData(\"\")\n",
        "    organization = mining.MetaData(\"\")\n",
        "    keywords = mining.MetaData(\"\")\n",
        "    extra_link = mining.MetaData(\"citation_pdf_url\")\n",
        "\n",
        "  class ArxivEngine(mining.MiningEngine):\n",
        "    def get_authors(self, element):\n",
        "      return mining.TagList(self.get(element, several=True),tag='author')\n",
        "    def get_date_publication(self, element):\n",
        "      ''' Changes date format from YYYY/MM/DD to YYYY-MM-DD'''\n",
        "      return (self.get(element).replace('/', '-'))\n"
      ],
      "execution_count": 24,
      "outputs": []
    },
    {
      "cell_type": "markdown",
      "metadata": {
        "id": "n8tZhljfP9Vi"
      },
      "source": [
        "## Define Biorxiv miner"
      ]
    },
    {
      "cell_type": "code",
      "metadata": {
        "id": "Vfu5NvHCP5x5"
      },
      "source": [
        "class BiorxivMiner():\n",
        "  '''\n",
        "  Miner for https://www.biorxiv.org/\n",
        "  '''\n",
        "  def __init__():\n",
        "    pass\n",
        "\n",
        "  class BiorxivLocations(mining.PageLocations):\n",
        "    \"\"\" \n",
        "      This is a class used to find the schema in the journal\n",
        "    \"\"\"\n",
        "    references = mining.MetaData(\"citation_reference\")\n",
        "    source = mining.MetaData('citation_journal_title')\n",
        "    body = mining.MetaData(\"\")\n",
        "    source_impact_factor = mining.MetaData(\"\")\n",
        "    category = mining.MetaData(\"\")\n",
        "    license = \"It is made available under a CC-BY 4.0 International license.\"\n",
        "    quantity_of_citations = mining.MetaData(\"\")\n",
        "    organization = mining.MetaData(\"citation_author_institution\")\n",
        "    keywords = mining.MetaData(\"\")\n",
        "    extra_link = mining.MetaData(\"citation_pdf_url\")\n",
        "    \n",
        "  class BiorxivEngine(mining.MiningEngine):\n",
        "    def get_authors(self, element):\n",
        "      return mining.TagList(self.get(element, several=True),tag='author')\n",
        "    def get_references(self, element):\n",
        "      return mining.TagList(self.get(element, several=True),tag='reference')\n",
        "    def get_organization(self, element):\n",
        "      return mining.TagList(self.get(element, several=True),tag='organization')\n"
      ],
      "execution_count": 25,
      "outputs": []
    },
    {
      "cell_type": "markdown",
      "metadata": {
        "id": "6BT74WrfDfvY"
      },
      "source": [
        "## Define Medrxiv miner"
      ]
    },
    {
      "cell_type": "code",
      "metadata": {
        "id": "s8Zdowc84ZFu"
      },
      "source": [
        "class MedrxivMiner():\n",
        "  '''\n",
        "  Miner for https://www.medrxiv.org/\n",
        "  '''\n",
        "  def __init__():\n",
        "    pass\n",
        "\n",
        "  class MedrxivLocations(mining.PageLocations):\n",
        "    references = mining.MetaData(\"\")\n",
        "    title = mining.MetaData(\"citation_title\")\n",
        "    doi = mining.MetaData(\"citation_doi\")\n",
        "    authors = mining.MetaData(\"citation_author\")\n",
        "    abstract = mining.MetaData(\"citation_abstract\")\n",
        "    date_publication = mining.MetaData(\"article:published_time\")\n",
        "    body = mining.MetaData(\"\")\n",
        "    source = mining.MetaData(\"citation_journal_title\")\n",
        "    source_impact_factor = mining.MetaData(\"\")\n",
        "    search_keyword = mining.MetaData(\"\")\n",
        "    category = mining.MetaData(\"\")\n",
        "    license = mining.MetaData(\"\")\n",
        "    quantity_of_citations = mining.MetaData(\"\")\n",
        "    organization = mining.MetaData(\"citation_author_institution\")\n",
        "    keywords = mining.MetaData(\"\")\n",
        "    extra_link = mining.MetaData(\"citation_pdf_url\")      \n",
        "\n",
        "  class MedrxivEngine(mining.MiningEngine):\n",
        "    def get_organization(self, element):\n",
        "      return mining.TagList(self.get(element, several=True),tag='organization')\n",
        "    def get_authors(self, element):\n",
        "      return mining.TagList(self.get(element, several=True),tag='author')\n"
      ],
      "execution_count": 26,
      "outputs": []
    }
  ]
}