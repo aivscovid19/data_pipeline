{
  "nbformat": 4,
  "nbformat_minor": 0,
  "metadata": {
    "colab": {
      "name": "SiteWorkerMain.ipynb",
      "provenance": [],
      "authorship_tag": "ABX9TyMXDg419GYgqUxSJxXdVKko",
      "include_colab_link": true
    },
    "kernelspec": {
      "name": "python3",
      "display_name": "Python 3"
    }
  },
  "cells": [
    {
      "cell_type": "markdown",
      "metadata": {
        "id": "view-in-github",
        "colab_type": "text"
      },
      "source": [
        "<a href=\"https://colab.research.google.com/github/khodizoda/ai_vs_covid19/blob/master/SiteWorkerMain.ipynb\" target=\"_parent\"><img src=\"https://colab.research.google.com/assets/colab-badge.svg\" alt=\"Open In Colab\"/></a>"
      ]
    },
    {
      "cell_type": "markdown",
      "metadata": {
        "id": "nUxmw11U2N_O"
      },
      "source": [
        "# Set up and update"
      ]
    },
    {
      "cell_type": "code",
      "metadata": {
        "id": "dwCCV2ewM2lm"
      },
      "source": [
        "!apt-get update && apt-get upgrade\n",
        "!pip install import_ipynb\n",
        "\n",
        "!curl 'https://raw.githubusercontent.com/aivscovid19/data_pipeline/gulnoza/JobDispatcher.ipynb' > JobDispatcher.ipynb\n",
        "!curl 'https://raw.githubusercontent.com/khodizoda/ai_vs_covid19/master/SiteWorkerIntegratedV3.ipynb' > SiteWorkerIntegratedV3.ipynb"
      ],
      "execution_count": null,
      "outputs": []
    },
    {
      "cell_type": "markdown",
      "metadata": {
        "id": "WUOeGRe8Ysrx"
      },
      "source": [
        "# Test SiteWorkers"
      ]
    },
    {
      "cell_type": "code",
      "metadata": {
        "id": "SvJu19cJJgrH"
      },
      "source": [
        "from google.colab import auth\n",
        "\n",
        "import uuid\n",
        "import import_ipynb\n",
        "from JobDispatcher import JobDispatcher\n",
        "from SiteWorkerIntegratedV3 import SiteWorkerIntegrated\n",
        "\n",
        "credentials = auth.authenticate_user()\n",
        "project_id = 'for-gulnoza'\n",
        "driver_path = '/usr/lib/chromium-browser/chromedriver'\n",
        "\n",
        "worker_id = uuid.uuid1()\n",
        "limit = 10"
      ],
      "execution_count": null,
      "outputs": []
    },
    {
      "cell_type": "markdown",
      "metadata": {
        "id": "sLg73Yx7Y2_V"
      },
      "source": [
        "## Test IbmcRuSiteWorker"
      ]
    },
    {
      "cell_type": "code",
      "metadata": {
        "id": "8vrJhey3Y2rj",
        "outputId": "05703663-e623-41d1-a650-b5847bfca5f3",
        "colab": {
          "base_uri": "https://localhost:8080/",
          "height": 238
        }
      },
      "source": [
        "urls_table = 'pbmc_v2.url_builder_med'\n",
        "article_table = 'pbmc_v2.articles_med'\n",
        "\n",
        "urls_df = JobDispatcher(credentials, project_id, urls_table).register_job(worker_id, limit)\n",
        "\n",
        "articles = SiteWorkerIntegrated()\n",
        "articles.init(credentials, project_id, urls_table, article_table, driver_path=driver_path)\n",
        "articles.send_request(urls_df, limit)"
      ],
      "execution_count": 25,
      "outputs": [
        {
          "output_type": "stream",
          "text": [
            "\n",
            "1it [00:01,  2.00s/it]\n"
          ],
          "name": "stderr"
        },
        {
          "output_type": "stream",
          "text": [
            "ibmc.msk.ru\n",
            "here\n",
            "ibmc.msk.ru\n",
            "in ibmc scraper\n",
            "Headless: True\n",
            "driver path: /usr/lib/chromium-browser/chromedriver\n"
          ],
          "name": "stdout"
        },
        {
          "output_type": "stream",
          "text": [
            "\n",
            "1it [00:04,  4.96s/it]\n",
            "\n",
            "1it [00:02,  2.44s/it]\n"
          ],
          "name": "stderr"
        },
        {
          "output_type": "stream",
          "text": [
            "Done\n"
          ],
          "name": "stdout"
        }
      ]
    },
    {
      "cell_type": "markdown",
      "metadata": {
        "id": "3ivnTeE5ZaBH"
      },
      "source": [
        "## Test ArxivSiteWorker"
      ]
    },
    {
      "cell_type": "code",
      "metadata": {
        "id": "omeqxcUhZZQ2",
        "outputId": "58096ee6-5aa9-45cb-d1fd-e18250dbd135",
        "colab": {
          "base_uri": "https://localhost:8080/",
          "height": 238
        }
      },
      "source": [
        "urls_table = 'arxiv_test.url_builder_virus'\n",
        "article_table = 'arxiv_test.articles_v2'\n",
        "\n",
        "urls_df = JobDispatcher(credentials, project_id, urls_table).register_job(worker_id, limit)\n",
        "\n",
        "articles = SiteWorkerIntegrated()\n",
        "articles.init(credentials, project_id, urls_table, article_table, driver_path=driver_path)\n",
        "articles.send_request(urls_df, limit)"
      ],
      "execution_count": 22,
      "outputs": [
        {
          "output_type": "stream",
          "text": [
            "\n",
            "1it [00:05,  5.39s/it]\n"
          ],
          "name": "stderr"
        },
        {
          "output_type": "stream",
          "text": [
            "arxiv.org\n",
            "here\n",
            "arxiv.org\n",
            "in arxiv scraper\n",
            "Headless: True\n",
            "driver path: /usr/lib/chromium-browser/chromedriver\n"
          ],
          "name": "stdout"
        },
        {
          "output_type": "stream",
          "text": [
            "\n",
            "1it [00:02,  2.31s/it]\n",
            "\n",
            "1it [00:05,  5.44s/it]\n"
          ],
          "name": "stderr"
        },
        {
          "output_type": "stream",
          "text": [
            "Done\n"
          ],
          "name": "stdout"
        }
      ]
    },
    {
      "cell_type": "markdown",
      "metadata": {
        "id": "zzP7otIPZg6g"
      },
      "source": [
        "## Test BiorxivSiteWorker"
      ]
    },
    {
      "cell_type": "code",
      "metadata": {
        "id": "iAzDuCSbZotn",
        "outputId": "96751e59-7c97-4766-df98-5ded2970e5ec",
        "colab": {
          "base_uri": "https://localhost:8080/",
          "height": 238
        }
      },
      "source": [
        "urls_table = 'biorxiv_test.url_builder_virus'\n",
        "article_table = 'biorxiv_test.articles_v2'\n",
        "\n",
        "urls_df = JobDispatcher(credentials, project_id, urls_table).register_job(worker_id, limit)\n",
        "\n",
        "articles = SiteWorkerIntegrated()\n",
        "articles.init(credentials, project_id, urls_table, article_table, driver_path=driver_path)\n",
        "articles.send_request(urls_df, limit)"
      ],
      "execution_count": 23,
      "outputs": [
        {
          "output_type": "stream",
          "text": [
            "\n",
            "1it [00:02,  2.33s/it]\n"
          ],
          "name": "stderr"
        },
        {
          "output_type": "stream",
          "text": [
            "biorxiv.org\n",
            "here\n",
            "biorxiv.org\n",
            "in biorxiv scraper\n",
            "Headless: True\n",
            "driver path: /usr/lib/chromium-browser/chromedriver\n"
          ],
          "name": "stdout"
        },
        {
          "output_type": "stream",
          "text": [
            "\n",
            "1it [00:04,  4.93s/it]\n",
            "\n",
            "1it [00:03,  3.81s/it]"
          ],
          "name": "stderr"
        },
        {
          "output_type": "stream",
          "text": [
            "Done\n"
          ],
          "name": "stdout"
        },
        {
          "output_type": "stream",
          "text": [
            "\n"
          ],
          "name": "stderr"
        }
      ]
    },
    {
      "cell_type": "markdown",
      "metadata": {
        "id": "6aUbRT0wZlIw"
      },
      "source": [
        "## Test MedrxivSiteWorker"
      ]
    },
    {
      "cell_type": "code",
      "metadata": {
        "id": "j7CaFCJeZqoi",
        "outputId": "96fcb859-c287-4b83-d8b1-01b6594614b2",
        "colab": {
          "base_uri": "https://localhost:8080/",
          "height": 238
        }
      },
      "source": [
        "urls_table = 'medrxiv_test.url_builder_virus'\n",
        "article_table = 'medrxiv_test.articles_v2'\n",
        "\n",
        "urls_df = JobDispatcher(credentials, project_id, urls_table).register_job(worker_id, limit)\n",
        "\n",
        "articles = SiteWorkerIntegrated()\n",
        "articles.init(credentials, project_id, urls_table, article_table, driver_path=driver_path)\n",
        "articles.send_request(urls_df, limit)"
      ],
      "execution_count": 24,
      "outputs": [
        {
          "output_type": "stream",
          "text": [
            "\n",
            "1it [00:02,  2.99s/it]\n"
          ],
          "name": "stderr"
        },
        {
          "output_type": "stream",
          "text": [
            "medrxiv.org\n",
            "here\n",
            "medrxiv.org\n",
            "in medrxiv scraper\n",
            "Headless: True\n",
            "driver path: /usr/lib/chromium-browser/chromedriver\n"
          ],
          "name": "stdout"
        },
        {
          "output_type": "stream",
          "text": [
            "\n",
            "1it [00:04,  4.68s/it]\n",
            "\n",
            "1it [00:03,  3.00s/it]\n"
          ],
          "name": "stderr"
        },
        {
          "output_type": "stream",
          "text": [
            "Done\n"
          ],
          "name": "stdout"
        }
      ]
    }
  ]
}