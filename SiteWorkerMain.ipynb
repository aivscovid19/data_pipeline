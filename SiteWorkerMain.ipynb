{
  "nbformat": 4,
  "nbformat_minor": 0,
  "metadata": {
    "colab": {
      "name": "SiteWorkerMain.ipynb",
      "provenance": [],
      "collapsed_sections": [],
      "authorship_tag": "ABX9TyObPm7QP0sv9YxPBlI2+khO",
      "include_colab_link": true
    },
    "kernelspec": {
      "name": "python3",
      "display_name": "Python 3"
    }
  },
  "cells": [
    {
      "cell_type": "markdown",
      "metadata": {
        "id": "view-in-github",
        "colab_type": "text"
      },
      "source": [
        "<a href=\"https://colab.research.google.com/github/aivscovid19/data_pipeline/blob/gulnoza/SiteWorkerMain.ipynb\" target=\"_parent\"><img src=\"https://colab.research.google.com/assets/colab-badge.svg\" alt=\"Open In Colab\"/></a>"
      ]
    },
    {
      "cell_type": "markdown",
      "metadata": {
        "id": "nUxmw11U2N_O"
      },
      "source": [
        "# Set up and update"
      ]
    },
    {
      "cell_type": "code",
      "metadata": {
        "id": "dwCCV2ewM2lm"
      },
      "source": [
        "!apt-get update && apt-get upgrade\n",
        "!pip install import_ipynb\n",
        "\n",
        "!curl 'https://raw.githubusercontent.com/aivscovid19/data_pipeline/gulnoza/JobDispatcher.ipynb' > JobDispatcher.ipynb\n",
        "!curl 'https://raw.githubusercontent.com/khodizoda/ai_vs_covid19/master/SiteWorkerIntegratedV3.ipynb' > SiteWorkerIntegratedV6.ipynb"
      ],
      "execution_count": null,
      "outputs": []
    },
    {
      "cell_type": "markdown",
      "metadata": {
        "id": "WUOeGRe8Ysrx"
      },
      "source": [
        "# Test SiteWorkers"
      ]
    },
    {
      "cell_type": "code",
      "metadata": {
        "id": "SvJu19cJJgrH"
      },
      "source": [
        "from google.colab import auth\n",
        "\n",
        "import uuid\n",
        "import import_ipynb\n",
        "from JobDispatcher import JobDispatcher\n",
        "from SiteWorkerIntegratedV6 import SiteWorkerIntegrated\n",
        "\n",
        "credentials = auth.authenticate_user()\n",
        "project_id = 'for-gulnoza'\n",
        "driver_path = '/usr/lib/chromium-browser/chromedriver'\n",
        "\n",
        "worker_id = uuid.uuid1()\n",
        "limit = 10"
      ],
      "execution_count": null,
      "outputs": []
    },
    {
      "cell_type": "markdown",
      "metadata": {
        "id": "sLg73Yx7Y2_V"
      },
      "source": [
        "## Test IbmcRuSiteWorker"
      ]
    },
    {
      "cell_type": "code",
      "metadata": {
        "id": "8vrJhey3Y2rj",
        "outputId": "67b3a893-9d68-4a30-acbd-8bdbb1648f98",
        "colab": {
          "base_uri": "https://localhost:8080/",
          "height": 187
        }
      },
      "source": [
        "urls_table = 'pbmc_v2.url_builder_med'\n",
        "article_table = 'pbmc_v2.articles_med_v3'\n",
        "\n",
        "urls_df = JobDispatcher(credentials, project_id, urls_table).register_job(worker_id, limit)\n",
        "\n",
        "articles = SiteWorkerIntegrated()\n",
        "articles.init(credentials, project_id, urls_table, article_table, driver_path=driver_path)\n",
        "articles.send_request(urls_df, limit)"
      ],
      "execution_count": 50,
      "outputs": [
        {
          "output_type": "stream",
          "text": [
            "\n",
            "1it [00:03,  3.67s/it]\n"
          ],
          "name": "stderr"
        },
        {
          "output_type": "stream",
          "text": [
            "ibmc.msk.ru\n",
            "Headless: True\n",
            "driver path: /usr/lib/chromium-browser/chromedriver\n"
          ],
          "name": "stdout"
        },
        {
          "output_type": "stream",
          "text": [
            "\n",
            "1it [00:02,  2.07s/it]\n",
            "\n",
            "1it [00:02,  2.80s/it]\n"
          ],
          "name": "stderr"
        },
        {
          "output_type": "stream",
          "text": [
            "Done\n"
          ],
          "name": "stdout"
        }
      ]
    },
    {
      "cell_type": "markdown",
      "metadata": {
        "id": "3ivnTeE5ZaBH"
      },
      "source": [
        "## Test ArxivSiteWorker"
      ]
    },
    {
      "cell_type": "code",
      "metadata": {
        "id": "omeqxcUhZZQ2",
        "outputId": "c10b04c3-4901-40de-8640-bd3d47be2496",
        "colab": {
          "base_uri": "https://localhost:8080/",
          "height": 187
        }
      },
      "source": [
        "urls_table = 'arxiv_test.url_builder_virus'\n",
        "article_table = 'arxiv_test.articles_v4'\n",
        "\n",
        "urls_df = JobDispatcher(credentials, project_id, urls_table).register_job(worker_id, limit)\n",
        "\n",
        "articles = SiteWorkerIntegrated()\n",
        "articles.init(credentials, project_id, urls_table, article_table, driver_path=driver_path)\n",
        "articles.send_request(urls_df, limit)"
      ],
      "execution_count": 52,
      "outputs": [
        {
          "output_type": "stream",
          "text": [
            "\n",
            "1it [00:04,  4.77s/it]\n"
          ],
          "name": "stderr"
        },
        {
          "output_type": "stream",
          "text": [
            "arxiv.org\n",
            "Headless: True\n",
            "driver path: /usr/lib/chromium-browser/chromedriver\n"
          ],
          "name": "stdout"
        },
        {
          "output_type": "stream",
          "text": [
            "\n",
            "1it [00:05,  5.47s/it]\n",
            "\n",
            "1it [00:02,  2.04s/it]\n"
          ],
          "name": "stderr"
        },
        {
          "output_type": "stream",
          "text": [
            "Done\n"
          ],
          "name": "stdout"
        }
      ]
    },
    {
      "cell_type": "markdown",
      "metadata": {
        "id": "zzP7otIPZg6g"
      },
      "source": [
        "## Test BiorxivSiteWorker"
      ]
    },
    {
      "cell_type": "code",
      "metadata": {
        "id": "iAzDuCSbZotn",
        "outputId": "936c34e7-3641-4314-952e-b741d12a77ec",
        "colab": {
          "base_uri": "https://localhost:8080/",
          "height": 187
        }
      },
      "source": [
        "urls_table = 'biorxiv_test.url_builder_virus'\n",
        "article_table = 'biorxiv_test.articles_v4'\n",
        "\n",
        "urls_df = JobDispatcher(credentials, project_id, urls_table).register_job(worker_id, limit)\n",
        "\n",
        "articles = SiteWorkerIntegrated()\n",
        "articles.init(credentials, project_id, urls_table, article_table, driver_path=driver_path)\n",
        "articles.send_request(urls_df, limit)"
      ],
      "execution_count": 53,
      "outputs": [
        {
          "output_type": "stream",
          "text": [
            "\n",
            "1it [00:04,  4.35s/it]\n"
          ],
          "name": "stderr"
        },
        {
          "output_type": "stream",
          "text": [
            "biorxiv.org\n",
            "Headless: True\n",
            "driver path: /usr/lib/chromium-browser/chromedriver\n"
          ],
          "name": "stdout"
        },
        {
          "output_type": "stream",
          "text": [
            "\n",
            "1it [00:03,  3.13s/it]\n",
            "\n",
            "1it [00:02,  2.49s/it]\n"
          ],
          "name": "stderr"
        },
        {
          "output_type": "stream",
          "text": [
            "Done\n"
          ],
          "name": "stdout"
        }
      ]
    },
    {
      "cell_type": "markdown",
      "metadata": {
        "id": "6aUbRT0wZlIw"
      },
      "source": [
        "## Test MedrxivSiteWorker\n",
        "\n"
      ]
    },
    {
      "cell_type": "code",
      "metadata": {
        "id": "j7CaFCJeZqoi",
        "outputId": "22b31e60-6a0e-4b8a-d568-052ef67d5acb",
        "colab": {
          "base_uri": "https://localhost:8080/",
          "height": 187
        }
      },
      "source": [
        "urls_table = 'medrxiv_test.url_builder_virus'\n",
        "article_table = 'medrxiv_test.articles_v4'\n",
        "\n",
        "urls_df = JobDispatcher(credentials, project_id, urls_table).register_job(worker_id, limit)\n",
        "\n",
        "articles = SiteWorkerIntegrated()\n",
        "articles.init(credentials, project_id, urls_table, article_table, driver_path=driver_path)\n",
        "articles.send_request(urls_df, limit)"
      ],
      "execution_count": 54,
      "outputs": [
        {
          "output_type": "stream",
          "text": [
            "\n",
            "1it [00:05,  5.82s/it]\n"
          ],
          "name": "stderr"
        },
        {
          "output_type": "stream",
          "text": [
            "medrxiv.org\n",
            "Headless: True\n",
            "driver path: /usr/lib/chromium-browser/chromedriver\n"
          ],
          "name": "stdout"
        },
        {
          "output_type": "stream",
          "text": [
            "\n",
            "1it [00:03,  3.30s/it]\n",
            "\n",
            "1it [00:03,  3.27s/it]\n"
          ],
          "name": "stderr"
        },
        {
          "output_type": "stream",
          "text": [
            "Done\n"
          ],
          "name": "stdout"
        }
      ]
    },
    {
      "cell_type": "markdown",
      "metadata": {
        "id": "tZtMlOY3byVS"
      },
      "source": [
        "## Test ScieloSiteWorker\n"
      ]
    },
    {
      "cell_type": "code",
      "metadata": {
        "id": "rTEsSUOfbx7v",
        "outputId": "75e6d840-22a5-43f1-a7bb-fed47d59214c",
        "colab": {
          "base_uri": "https://localhost:8080/",
          "height": 136
        }
      },
      "source": [
        "urls_table = 'scielo_urlbuilder.scielo_urls_v1'\n",
        "article_table = 'scielo_urlbuilder.articles_v4'\n",
        "\n",
        "urls_df = JobDispatcher(credentials, project_id, urls_table).register_job(worker_id, limit)\n",
        "\n",
        "articles = SiteWorkerIntegrated()\n",
        "articles.init(credentials, project_id, urls_table, article_table, driver_path=driver_path)\n",
        "articles.send_request(urls_df, limit)"
      ],
      "execution_count": 8,
      "outputs": [
        {
          "output_type": "stream",
          "text": [
            "1it [00:03,  3.17s/it]\n"
          ],
          "name": "stderr"
        },
        {
          "output_type": "stream",
          "text": [
            "scielo.br\n",
            "Headless: True\n",
            "driver path: /usr/lib/chromium-browser/chromedriver\n"
          ],
          "name": "stdout"
        },
        {
          "output_type": "stream",
          "text": [
            "1it [00:03,  3.24s/it]\n",
            "1it [00:03,  3.88s/it]\n"
          ],
          "name": "stderr"
        },
        {
          "output_type": "stream",
          "text": [
            "Done\n"
          ],
          "name": "stdout"
        }
      ]
    }
  ]
}