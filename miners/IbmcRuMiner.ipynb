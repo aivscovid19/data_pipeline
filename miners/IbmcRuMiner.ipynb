{
  "nbformat": 4,
  "nbformat_minor": 0,
  "metadata": {
    "colab": {
      "name": "IbmcRuMiner.ipynb",
      "provenance": [],
      "collapsed_sections": [],
      "authorship_tag": "ABX9TyMcVGRSOzq4ovwpMGcf0b4H",
      "include_colab_link": true
    },
    "kernelspec": {
      "name": "python3",
      "display_name": "Python 3"
    }
  },
  "cells": [
    {
      "cell_type": "markdown",
      "metadata": {
        "id": "view-in-github",
        "colab_type": "text"
      },
      "source": [
        "<a href=\"https://colab.research.google.com/github/aivscovid19/data_pipeline/blob/gulnoza/IbmcRuMiner.ipynb\" target=\"_parent\"><img src=\"https://colab.research.google.com/assets/colab-badge.svg\" alt=\"Open In Colab\"/></a>"
      ]
    },
    {
      "cell_type": "markdown",
      "metadata": {
        "id": "nSXJwbJw-nbS"
      },
      "source": [
        "## Set up and update"
      ]
    },
    {
      "cell_type": "code",
      "metadata": {
        "id": "haYENNc3-hwj"
      },
      "source": [
        "!apt-get update && apt-get upgrade\n",
        "!apt install chromium-chromedriver\n",
        "!pip install centaurMiner==0.0.8\n",
        "\n",
        "!apt autoremove"
      ],
      "execution_count": null,
      "outputs": []
    },
    {
      "cell_type": "markdown",
      "metadata": {
        "id": "6BT74WrfDfvY"
      },
      "source": [
        "## Define miner"
      ]
    },
    {
      "cell_type": "code",
      "metadata": {
        "id": "s8Zdowc84ZFu"
      },
      "source": [
        "import centaurminer as mining\n",
        "\n",
        "class IbmcRuMiner():\n",
        "  '''\n",
        "  Miner for http://pbmc.ibmc.msk.ru/\n",
        "  '''\n",
        "  def __init__():\n",
        "    pass\n",
        "\n",
        "  class IbmcLocations(mining.PageLocations):\n",
        "    '''\n",
        "    IbmcLocations class sets instructions to find an element on\n",
        "    `http://pbmc.ibmc.msk.ru/`\n",
        "    '''\n",
        "\n",
        "    license = \"http://pbmc.ibmc.msk.ru/ru/authors-rules-ru/\"\n",
        "    keywords = mining.MetaData(\"citation_keywords\")\n",
        "    abstract = mining.Element(\"xpath\", \"//td[@class='arti'][@style='text-align:justify;']\")\n",
        "    source = mining.MetaData(\"citation_journal_title\")\n",
        "    organization_affiliated = mining.MetaData(\"citation_author_institution\")\n",
        "    pubmed_link = mining.Element(\"xpath\", \"//td[@class='arti'][@style='align:justify;']//a[@target='_blank']\").get_attribute('href')\n",
        "    translated_link = mining.Element(\"xpath\", \"//td[@class='arti']//a[@target='_blank']\").get_attribute('href')\n",
        "\n",
        "  class IbmcEngine(mining.MiningEngine):\n",
        "    '''\n",
        "    IbmcEngine class sets instructions on how to mine data from\n",
        "    `http://pbmc.ibmc.msk.ru/`\n",
        "    '''\n",
        "\n",
        "    def get_date_publication(self, element):\n",
        "      ''' Changes date format from YYYY/MM/DD to YYYY-MM-DD'''\n",
        "      return (self.get(element).replace('/', '-'))\n",
        "\n",
        "    def get_authors(self, element):\n",
        "      ''' Gets several `author` fields and wraps them \n",
        "      inside `html` like tags. '''\n",
        "      return mining.TagList(self.get(element, several=True), tag='author')\n",
        "\n",
        "    def get_organization_affiliated(self, element):\n",
        "      ''' Gets several `organizations_affiliated` fields and wraps them \n",
        "      inside `html` like tags. '''\n",
        "      return mining.TagList(self.get(element, several=True), tag='org')\n"
      ],
      "execution_count": null,
      "outputs": []
    }
  ]
}