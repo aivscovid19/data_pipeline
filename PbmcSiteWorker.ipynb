{
  "nbformat": 4,
  "nbformat_minor": 0,
  "metadata": {
    "colab": {
      "name": "PbmcSiteWorker.ipynb",
      "provenance": [],
      "collapsed_sections": [],
      "include_colab_link": true
    },
    "kernelspec": {
      "name": "python3",
      "display_name": "Python 3"
    }
  },
  "cells": [
    {
      "cell_type": "markdown",
      "metadata": {
        "id": "view-in-github",
        "colab_type": "text"
      },
      "source": [
        "<a href=\"https://colab.research.google.com/github/aivscovid19/data_pipeline/blob/gulnoza/PbmcSiteWorker.ipynb\" target=\"_parent\"><img src=\"https://colab.research.google.com/assets/colab-badge.svg\" alt=\"Open In Colab\"/></a>"
      ]
    },
    {
      "cell_type": "markdown",
      "metadata": {
        "id": "yIuKcSVRxOAr"
      },
      "source": [
        " ## **Set up and update**\n"
      ]
    },
    {
      "cell_type": "code",
      "metadata": {
        "id": "iQdKEHfAmSOv"
      },
      "source": [
        "from google.colab import auth\n",
        "credentials = auth.authenticate_user()\n",
        "\n",
        "!apt-get update && apt-get upgrade\n",
        "!apt install chromium-chromedriver\n",
        "!pip install centaurMiner==0.0.8\n",
        "!pip install import_ipynb\n",
        "\n",
        "!apt autoremove\n",
        "\n",
        "# import JobDispatcher module\n",
        "!curl 'https://raw.githubusercontent.com/aivscovid19/data_pipeline/gulnoza/JobDispatcher.ipynb' > job_dispatcher.ipynb"
      ],
      "execution_count": null,
      "outputs": []
    },
    {
      "cell_type": "markdown",
      "metadata": {
        "id": "MPsreeC3JJKa"
      },
      "source": [
        "## Define PmbcSiteWorker class:"
      ]
    },
    {
      "cell_type": "code",
      "metadata": {
        "id": "nP-sTZTfKsR8"
      },
      "source": [
        "import import_ipynb\n",
        "from job_dispatcher import JobDispatcher\n",
        "import centaurminer as mining\n",
        "import random, time\n",
        "import pandas as pd\n",
        "from pandas.io import gbq\n",
        "\n",
        "class PbmcSiteWorker():\n",
        "  '''\n",
        "  PmbcSiteWorker class scrapes articles from \n",
        "  Biomedical Chemistry (`http://pbmc.ibmc.msk.ru/`)\n",
        "  and uploads scraped data to a given BigQuery table.\n",
        "\n",
        "  Attributes:\n",
        "    credentials (str): Credentials, either from user_account or service_account,\n",
        "                        to authenticate to Google Cloud APIs.\n",
        "    project_id (str): A project_id on Google Cloud Platform.\n",
        "    url_table (str): A url_table to use to retrieve urls_dataframe from,\n",
        "                      in form of `dataset_id.table_id`.\n",
        "    article_table (str): An article_table to use to upload scraped data to,\n",
        "                      in form of `dataset_id.table_id`.\n",
        "    driver_path (str): A driver path to a chromium-chromedriver\n",
        "  '''\n",
        "\n",
        "  def __init__(self, credentials, project_id, url_table, article_table,\n",
        "                driver_path=None):\n",
        "    self.max_threshold = 50\n",
        "    self.min_delay = 0.1\n",
        "    self.max_delay = 2\n",
        "    self.credentials = credentials\n",
        "    self.project_id = project_id\n",
        "    self.url_table = url_table\n",
        "    self.article_table = article_table\n",
        "    self.driver_path = driver_path\n",
        "    self.article_schema = [\n",
        "        {'name': 'abstract',                'type': 'STRING', 'mode': 'REQUIRED'},\n",
        "        {'name': 'authors',                 'type': 'STRING'                    },\n",
        "        {'name': 'date_publication',        'type': 'DATE'                      },\n",
        "        {'name': 'doi',                     'type': 'STRING'                    },\n",
        "        {'name': 'extra_link',              'type': 'STRING'                    },\n",
        "        {'name': 'keywords',                'type': 'STRING'                    },\n",
        "        {'name': 'license',                 'type': 'STRING'                    },\n",
        "        {'name': 'organization_affiliated', 'type': 'STRING'                    },\n",
        "        {'name': 'pubmed_link',             'type': 'STRING'                    },\n",
        "        {'name': 'source',                  'type': 'STRING'                    },\n",
        "        {'name': 'title',                   'type': 'STRING', 'mode': 'REQUIRED'},\n",
        "        {'name': 'translated_link',         'type': 'STRING',                   },\n",
        "        {'name': 'url',                     'type': 'STRING', 'mode': 'REQUIRED'},\n",
        "        {'name': 'date_aquisition',         'type': 'DATE'                      },\n",
        "    ]\n",
        "\n",
        "  class PbmcLocations(mining.PageLocations):\n",
        "    '''\n",
        "    PbmcLocations class sets instructions to find an element on\n",
        "    `http://pbmc.ibmc.msk.ru/`\n",
        "    '''\n",
        "\n",
        "    license = \"http://pbmc.ibmc.msk.ru/ru/authors-rules-ru/\"\n",
        "    keywords = mining.MetaData(\"citation_keywords\")\n",
        "    abstract = mining.Element(\"xpath\", \"//td[@class='arti'][@style='text-align:justify;']\")\n",
        "    source = mining.MetaData(\"citation_journal_title\")\n",
        "    organization_affiliated = mining.MetaData(\"citation_author_institution\")\n",
        "    pubmed_link = mining.Element(\"xpath\", \"//td[@class='arti'][@style='align:justify;']//a[@target='_blank']\").get_attribute('href')\n",
        "    translated_link = mining.Element(\"xpath\", \"//td[@class='arti']//a[@target='_blank']\").get_attribute('href')\n",
        "\n",
        "  class PbmcEngine(mining.MiningEngine):\n",
        "    '''\n",
        "    PbmcEngine class mines data from `http://pbmc.ibmc.msk.ru/`\n",
        "    '''\n",
        "\n",
        "    def get_date_publication(self, element):\n",
        "      ''' Changes date format from YYYY/MM/DD to YYYY-MM-DD'''\n",
        "      return (self.get(element).replace('/', '-'))\n",
        "\n",
        "    def get_organization_affiliated(self, element):\n",
        "      ''' Gets several `organizations_affiliated` fields and wraps them \n",
        "      inside `html` like tags. '''\n",
        "      return mining.TagList(self.get(element, several=True), tag='org')\n",
        "\n",
        "  def scrape_data(self, urls_df, limit=100):\n",
        "    ''' Scrapes data given urls' dataframe, and limit of articles to scrape.\n",
        "    Uploads data to a given BigQuery table\n",
        "    and calls `update_job_status` method from `JobDispatcher` class\n",
        "    to update `status` of the job to `done`.\n",
        "\n",
        "    Attributes:\n",
        "      urls_df (pandas dataframe): A urls dataframe, to get a list of urls \n",
        "                                  to scrape from.\n",
        "      limit (str): A limit of articles to scrape. Default is 100.\n",
        "    '''\n",
        "\n",
        "    miner = self.PbmcEngine(self.PbmcLocations, driver_path=self.driver_path)\n",
        "    \n",
        "    urls = [url for url in list(urls_df['article_url'])]\n",
        "    data = []\n",
        "    prev_count = 0\n",
        "    for count, url in enumerate(urls, 1):\n",
        "      miner.gather(url)\n",
        "      data.append(miner.results)\n",
        "      if (count == self.max_threshold or count == limit or count == len(urls)):\n",
        "        # remove data if article_schema's REQUIRED fields are NULL\n",
        "        # applied to 'title' and 'abstract' fields\n",
        "        articles_list = list(filter(lambda i:\n",
        "                            i['title'] != None and len(i['title']) != 0 and\n",
        "                            i['abstract'] != None and len(i['abstract']) != 0,\n",
        "                            data[prev_count : count])) \n",
        "        articles_df = pd.DataFrame(articles_list)\n",
        "        articles_df.to_gbq(destination_table=f'{self.article_table}',\n",
        "                  project_id=self.project_id,\n",
        "                  if_exists='append',\n",
        "                  table_schema=self.article_schema,\n",
        "                  credentials=self.credentials)\n",
        "        prev_count = count\n",
        "      time.sleep(self.min_delay + self.max_delay * random.random())\n",
        "    # update job_status\n",
        "    JobDispatcher(self.credentials, self.project_id, self.url_table).update_job_status(urls_df)\n"
      ],
      "execution_count": 50,
      "outputs": []
    },
    {
      "cell_type": "markdown",
      "metadata": {
        "id": "XmVes3pqPbM5"
      },
      "source": [
        "## TEST"
      ]
    },
    {
      "cell_type": "code",
      "metadata": {
        "id": "HPphdqybMQOB",
        "outputId": "1a704e18-df62-4e36-abb8-2d5b5b0e4d51",
        "colab": {
          "base_uri": "https://localhost:8080/",
          "height": 1000
        }
      },
      "source": [
        "import uuid\n",
        "\n",
        "worker_id = uuid.uuid1()\n",
        "limit = 25\n",
        "driver_path = '/usr/lib/chromium-browser/chromedriver'\n",
        "\n",
        "urls_df = JobDispatcher(credentials, 'for-gulnoza', 'pbmc_v2.url_builder_med').register_job(worker_id, limit)\n",
        "PbmcSiteWorker(credentials, 'for-gulnoza', 'pbmc_v2.url_builder_med', 'pbmc_v2.articles_med_10_02', driver_path=driver_path).scrape_data(urls_df, limit)\n",
        "\n",
        "print(urls_df)\n"
      ],
      "execution_count": 52,
      "outputs": [
        {
          "output_type": "stream",
          "text": [
            "\n",
            "\n",
            "\n",
            "1it [00:02,  2.43s/it]\n"
          ],
          "name": "stderr"
        },
        {
          "output_type": "stream",
          "text": [
            "Headless: True\n",
            "driver path: /usr/lib/chromium-browser/chromedriver\n"
          ],
          "name": "stdout"
        },
        {
          "output_type": "stream",
          "text": [
            "\n",
            "\n",
            "\n",
            "0it [00:00, ?it/s]\u001b[A\u001b[A\u001b[A"
          ],
          "name": "stderr"
        },
        {
          "output_type": "stream",
          "text": [
            "                                             abstract  ... date_aquisition\n",
            "0   Клеточные ганглиозиды участвуют во взаимодейст...  ...      2020-10-02\n",
            "1   Натрийуретические пептиды - семейство пептидны...  ...      2020-10-02\n",
            "2   Исследована применимость разработанных нами ко...  ...      2020-10-02\n",
            "3   Методом микротонкослойной хроматографии изучал...  ...      2020-10-02\n",
            "4   Липиды составляют 20% от веса лиофильно высуше...  ...      2020-10-02\n",
            "5   В работе представлен способ определения флавон...  ...      2020-10-02\n",
            "6   Показано, что секреты слюнных желез медицински...  ...      2020-10-02\n",
            "7   Нанобиотехнологии - это новое направление в на...  ...      2020-10-02\n",
            "8   Использование в качестве модельных гликирующих...  ...      2020-10-02\n",
            "9   Рассматривается состояние дел в России и за ру...  ...      2020-10-02\n",
            "10  В статье рассмотрены различные аспекты использ...  ...      2020-10-02\n",
            "11  В результате фракционирования высокоочищенного...  ...      2020-10-02\n",
            "12  Метаболомика — одна из омиксных наук, технолог...  ...      2020-10-02\n",
            "13  Одной из важных целей омикс-технологий, в том ...  ...      2020-10-02\n",
            "14  Предложен метод сравнительного анализа научных...  ...      2020-10-02\n",
            "15  В настоящее время активно разрабатываются подх...  ...      2020-10-02\n",
            "16  Фармакометабономика – наука, реализующая персо...  ...      2020-10-02\n",
            "17  Систематизированы данные по внедрению метаболо...  ...      2020-10-02\n",
            "18  Исследовали влияние милдроната - [3(2,2,2-трим...  ...      2020-10-02\n",
            "19  Рассмотрен современный способ моделирования по...  ...      2020-10-02\n",
            "20  Электрохимические сенсоры с углеродными нанотр...  ...      2020-10-02\n",
            "21  Впервые показана способность секрета слюнных к...  ...      2020-10-02\n",
            "22  ПНФ катализирует обратимую реакцию фосфоролиза...  ...      2020-10-02\n",
            "23  Электрохимические сенсоры с углеродными нанотр...  ...      2020-10-02\n",
            "\n",
            "[24 rows x 14 columns]\n"
          ],
          "name": "stdout"
        },
        {
          "output_type": "stream",
          "text": [
            "\r1it [00:02,  2.29s/it]\n",
            "\n",
            "\n",
            "\n",
            "1it [00:02,  2.55s/it]"
          ],
          "name": "stderr"
        },
        {
          "output_type": "stream",
          "text": [
            "Done\n",
            "                                          article_url  ...                             worker_id\n",
            "0   http://pbmc.ibmc.msk.ru/ru/article-ru/PBMC-200...  ...  625a4a34-04d3-11eb-bb65-0242ac1c0002\n",
            "1   http://pbmc.ibmc.msk.ru/ru/article-ru/PBMC-200...  ...  625a4a34-04d3-11eb-bb65-0242ac1c0002\n",
            "2   http://pbmc.ibmc.msk.ru/ru/article-ru/PBMC-201...  ...  625a4a34-04d3-11eb-bb65-0242ac1c0002\n",
            "3   http://pbmc.ibmc.msk.ru/ru/article-ru/PBMC-199...  ...  625a4a34-04d3-11eb-bb65-0242ac1c0002\n",
            "4   http://pbmc.ibmc.msk.ru/ru/article-ru/PBMC-200...  ...  625a4a34-04d3-11eb-bb65-0242ac1c0002\n",
            "5   http://pbmc.ibmc.msk.ru/ru/article-ru/PBMC-200...  ...  625a4a34-04d3-11eb-bb65-0242ac1c0002\n",
            "6   http://pbmc.ibmc.msk.ru/ru/article-ru/PBMC-201...  ...  625a4a34-04d3-11eb-bb65-0242ac1c0002\n",
            "7   http://pbmc.ibmc.msk.ru/ru/article-ru/PBMC-200...  ...  625a4a34-04d3-11eb-bb65-0242ac1c0002\n",
            "8   http://pbmc.ibmc.msk.ru/ru/article-ru/PBMC-201...  ...  625a4a34-04d3-11eb-bb65-0242ac1c0002\n",
            "9   http://pbmc.ibmc.msk.ru/ru/article-ru/PBMC-200...  ...  625a4a34-04d3-11eb-bb65-0242ac1c0002\n",
            "10  http://pbmc.ibmc.msk.ru/ru/article-ru/PBMC-200...  ...  625a4a34-04d3-11eb-bb65-0242ac1c0002\n",
            "11  http://pbmc.ibmc.msk.ru/ru/article-ru/PBMC-201...  ...  625a4a34-04d3-11eb-bb65-0242ac1c0002\n",
            "12  http://pbmc.ibmc.msk.ru/ru/article-ru/PBMC-202...  ...  625a4a34-04d3-11eb-bb65-0242ac1c0002\n",
            "13  http://pbmc.ibmc.msk.ru/ru/article-ru/PBMC-201...  ...  625a4a34-04d3-11eb-bb65-0242ac1c0002\n",
            "14  http://pbmc.ibmc.msk.ru/ru/article-ru/PBMC-199...  ...  625a4a34-04d3-11eb-bb65-0242ac1c0002\n",
            "15  http://pbmc.ibmc.msk.ru/ru/article-ru/PBMC-202...  ...  625a4a34-04d3-11eb-bb65-0242ac1c0002\n",
            "16  http://pbmc.ibmc.msk.ru/ru/article-ru/PBMC-201...  ...  625a4a34-04d3-11eb-bb65-0242ac1c0002\n",
            "17  http://pbmc.ibmc.msk.ru/ru/article-ru/PBMC-201...  ...  625a4a34-04d3-11eb-bb65-0242ac1c0002\n",
            "18  http://pbmc.ibmc.msk.ru/ru/article-ru/PBMC-202...  ...  625a4a34-04d3-11eb-bb65-0242ac1c0002\n",
            "19  http://pbmc.ibmc.msk.ru/ru/article-ru/PBMC-200...  ...  625a4a34-04d3-11eb-bb65-0242ac1c0002\n",
            "20  http://pbmc.ibmc.msk.ru/ru/article-ru/PBMC-201...  ...  625a4a34-04d3-11eb-bb65-0242ac1c0002\n",
            "21  http://pbmc.ibmc.msk.ru/ru/article-ru/PBMC-201...  ...  625a4a34-04d3-11eb-bb65-0242ac1c0002\n",
            "22  http://pbmc.ibmc.msk.ru/ru/article-ru/PBMC-201...  ...  625a4a34-04d3-11eb-bb65-0242ac1c0002\n",
            "23  http://pbmc.ibmc.msk.ru/ru/article-ru/PBMC-201...  ...  625a4a34-04d3-11eb-bb65-0242ac1c0002\n",
            "24  http://pbmc.ibmc.msk.ru/ru/article-ru/PBMC-201...  ...  625a4a34-04d3-11eb-bb65-0242ac1c0002\n",
            "\n",
            "[25 rows x 8 columns]\n"
          ],
          "name": "stdout"
        },
        {
          "output_type": "stream",
          "text": [
            "\n"
          ],
          "name": "stderr"
        }
      ]
    }
  ]
}